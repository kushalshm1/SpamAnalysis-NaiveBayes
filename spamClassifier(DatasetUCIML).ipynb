{
 "cells": [
  {
   "cell_type": "code",
   "execution_count": 10,
   "metadata": {},
   "outputs": [
    {
     "name": "stdout",
     "output_type": "stream",
     "text": [
      "Cross Validation:---------\n",
      "CP Spam Log Probability:  -108.126232804\n",
      "CP Ham Log Probability: -241.607608533\n",
      "Accuracy CV Data:  75.58348294434471\n",
      "Testing:-------------\n",
      "CP Spam Log Probability:  -81.5747501748\n",
      "CP Ham Log Probability: -112.863429998\n",
      "Accuracy Test Data:  78.63554757630162\n",
      "Wall time: 5.9 s\n"
     ]
    }
   ],
   "source": [
    "%%time\n",
    "import pandas as pd\n",
    "import numpy as np\n",
    "import re\n",
    "from collections import Counter\n",
    "import string\n",
    "\n",
    "mainData = pd.DataFrame(pd.read_table('Dataset\\smsspamcollection\\SMSSpamCollection.txt'))\n",
    "mainData.rename(index=str, columns={\"ham\": \"Status\", \"Go until jurong point, crazy.. Available only in bugis n great world la e buffet... Cine there got amore wat...\": \"Message\"})\n",
    "trainingData, cvData, testData  = np.split(mainData,[int(0.6*len(mainData)),int(0.8*len(mainData))])\n",
    "spamTraining  = trainingData[trainingData['ham'] == 'spam']\n",
    "hamTraining  =  trainingData[trainingData['ham'] == 'ham']\n",
    "\n",
    "spamFreq = []\n",
    "hamFreq = []\n",
    "spamWords = ''\n",
    "hamWords = ''\n",
    "\n",
    "#Making all words a string-----------------\n",
    "for i in range(0,len(spamTraining)):\n",
    "    x = spamTraining['Go until jurong point, crazy.. Available only in bugis n great world la e buffet... Cine there got amore wat...'].iloc[i]\n",
    "    x.lower()\n",
    "    x = re.sub(r'[^\\w\\s]','',x)\n",
    "    spamWords = spamWords + \" \" +x\n",
    "\n",
    "for i in range(0,len(hamTraining)):\n",
    "    x = hamTraining['Go until jurong point, crazy.. Available only in bugis n great world la e buffet... Cine there got amore wat...'].iloc[i]\n",
    "    x.lower()\n",
    "    x = re.sub(r'[^\\w\\s]','',x)\n",
    "    hamWords = hamWords + \" \" +x\n",
    "#-------------------------------------------\n",
    "\n",
    "#Converting to Dictionary--------------------------\n",
    "spamFreq = dict(Counter(spamWords.split()).most_common())\n",
    "hamFreq = dict(Counter(hamWords.split()).most_common())\n",
    "values = spamFreq.values()\n",
    "spamValues = list(spamFreq.values())\n",
    "hamValues = list(hamFreq.values())\n",
    "spamKeys = list(spamFreq.keys())\n",
    "hamKeys = list(hamFreq.keys())\n",
    "\n",
    "for i in range(0,len(spamValues)):\n",
    "    spamValues[i] = (spamValues[i])/(len(spamValues))\n",
    "    \n",
    "for i in range(0,len(hamValues)):\n",
    "    hamValues[i] = (hamValues[i])/(len(hamValues))\n",
    "                                    \n",
    "spamFreq = dict(zip(spamKeys,spamValues))  #Contains Probabilities of all the words in Spam\n",
    "hamFreq = dict(zip(hamKeys,hamValues))  #Contains Probabilities of all the words in Ham\n",
    "\n",
    "#Checking Accuracy of Cross Validation Data ------------\n",
    "cpSpam = 1\n",
    "cpHam  = 1\n",
    "answers = []\n",
    "correct = 0\n",
    "pSpam = np.log(len(spamTraining)/len(trainingData))\n",
    "pHam  = np.log(len(hamTraining)/len(trainingData))\n",
    "for i in range(0,len(cvData)):\n",
    "    s = (cvData['Go until jurong point, crazy.. Available only in bugis n great world la e buffet... Cine there got amore wat...'].iloc[i])\n",
    "    s = s.lower()\n",
    "    s = re.sub(r'[^\\w\\s]','',s)\n",
    "    s = s.split()\n",
    "    sSpam = list(set(s) & set(spamFreq.keys()))\n",
    "    cpSpam = 0\n",
    "    sHam = list(set(s) & set(hamFreq.keys()))\n",
    "    cpHam = 0\n",
    "    for j in range(0,len(sHam)):\n",
    "        cpHam = cpHam + np.log(hamFreq[sHam[j]])\n",
    "    for j in range(0,len(sSpam)):\n",
    "        cpSpam = cpSpam + np.log(spamFreq[sSpam[j]])\n",
    "    fpSpam = (cpSpam+pSpam)-(pHam)\n",
    "    fpHam = (cpHam+pHam)-(pHam)\n",
    "\n",
    "    if(fpHam>fpSpam):\n",
    "        answers.append('spam')\n",
    "    else:\n",
    "        answers.append('ham')\n",
    "     \n",
    "for i in range(0,len(answers)):\n",
    "    if(answers[i] == cvData['ham'].iloc[i]):\n",
    "        correct = correct + 1\n",
    "print('Cross Validation:---------')\n",
    "print(\"CP Spam Log Probability: \",cpSpam)\n",
    "print(\"CP Ham Log Probability:\",cpHam)\n",
    "print(\"Accuracy CV Data: \",(correct/len(answers))*100)\n",
    "\n",
    "\n",
    "correct = 0\n",
    "answers = []\n",
    "pSpam = np.log(len(spamTraining)/len(trainingData))\n",
    "pHam  = np.log(len(hamTraining)/len(trainingData))\n",
    "for i in range(0,len(cvData)):\n",
    "    s = (testData['Go until jurong point, crazy.. Available only in bugis n great world la e buffet... Cine there got amore wat...'].iloc[i])\n",
    "    s = s.lower()\n",
    "    s = re.sub(r'[^\\w\\s]','',s)\n",
    "    s = s.split()\n",
    "    sSpam = list(set(s) & set(spamFreq.keys()))\n",
    "    cpSpam = 0\n",
    "    sHam = list(set(s) & set(hamFreq.keys()))\n",
    "    cpHam = 0\n",
    "    for j in range(0,len(sHam)):\n",
    "        cpHam = cpHam + np.log(hamFreq[sHam[j]])\n",
    "    for j in range(0,len(sSpam)):\n",
    "        cpSpam = cpSpam + np.log(spamFreq[sSpam[j]])\n",
    "    fpSpam = (cpSpam+pSpam)-(pHam)\n",
    "    fpHam = (cpHam+pHam)-(pHam)\n",
    "\n",
    "    if(fpHam>fpSpam):\n",
    "        answers.append('spam')\n",
    "    else:\n",
    "        answers.append('ham')\n",
    "\n",
    "for i in range(0,len(answers)):\n",
    "    if(answers[i] == testData['ham'].iloc[i]):\n",
    "        correct = correct + 1\n",
    "print('Testing:-------------')\n",
    "print(\"CP Spam Log Probability: \",cpSpam)\n",
    "print(\"CP Ham Log Probability:\",cpHam)\n",
    "print(\"Accuracy Test Data: \",(correct/len(answers))*100)\n"
   ]
  },
  {
   "cell_type": "code",
   "execution_count": 4,
   "metadata": {
    "collapsed": true
   },
   "outputs": [],
   "source": []
  },
  {
   "cell_type": "code",
   "execution_count": 5,
   "metadata": {
    "collapsed": true
   },
   "outputs": [],
   "source": []
  },
  {
   "cell_type": "code",
   "execution_count": null,
   "metadata": {
    "collapsed": true
   },
   "outputs": [],
   "source": []
  },
  {
   "cell_type": "code",
   "execution_count": null,
   "metadata": {
    "collapsed": true
   },
   "outputs": [],
   "source": []
  },
  {
   "cell_type": "code",
   "execution_count": null,
   "metadata": {
    "collapsed": true
   },
   "outputs": [],
   "source": []
  }
 ],
 "metadata": {
  "kernelspec": {
   "display_name": "Python 3",
   "language": "python",
   "name": "python3"
  },
  "language_info": {
   "codemirror_mode": {
    "name": "ipython",
    "version": 3
   },
   "file_extension": ".py",
   "mimetype": "text/x-python",
   "name": "python",
   "nbconvert_exporter": "python",
   "pygments_lexer": "ipython3",
   "version": "3.6.3"
  }
 },
 "nbformat": 4,
 "nbformat_minor": 2
}
